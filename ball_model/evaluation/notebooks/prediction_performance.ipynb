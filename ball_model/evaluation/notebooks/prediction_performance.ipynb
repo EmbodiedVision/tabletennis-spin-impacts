{
 "cells": [
  {
   "cell_type": "code",
   "execution_count": 1,
   "id": "5387bd06",
   "metadata": {},
   "outputs": [],
   "source": [
    "from pathlib import Path\n",
    "import sys\n",
    "\n",
    "sys.path.append(str(Path(\"../../../\").resolve()))\n",
    "%matplotlib inline\n",
    "\n",
    "import matplotlib\n",
    "import numpy as np\n",
    "import matplotlib.pyplot as plt\n",
    "import torch\n",
    "from itertools import product\n",
    "import pandas as pd\n",
    "import pickle as pkl\n",
    "from ball_model import EXPERIMENT_DIR\n",
    "from ball_model.data import get_data, iter_traj\n",
    "from tqdm.notebook import tqdm\n",
    "import re\n",
    "from joblib import Parallel, delayed\n",
    "\n",
    "from ball_model.utils.plotting import MplUtils\n",
    "\n",
    "MplUtils.set_style(plt, \"thesis\")"
   ]
  },
  {
   "cell_type": "code",
   "execution_count": 2,
   "id": "8930aa18",
   "metadata": {},
   "outputs": [],
   "source": [
    "def filter_dataframe(df, method_id, train_aug, use_side_info, dataset_name):\n",
    "    # method_id: ekf, rssm, tvae\n",
    "    # train_aug: True, False\n",
    "    # use_side_info: True, False\n",
    "    train_dataset = \"lp7aug\" if train_aug else \"lp7\"\n",
    "    if method_id == \"ekf\":\n",
    "        side_info_string = \"sialways\" if use_side_info else \"sinever\"\n",
    "        run_stem = f\"model_ekf_g_{train_dataset}_{side_info_string}\"\n",
    "    else:\n",
    "        raise ValueError\n",
    "\n",
    "    df_filt = df[df[\"run_stem\"] == run_stem]\n",
    "    df_filt = df_filt[df_filt[\"use_side_info\"] == use_side_info]\n",
    "\n",
    "    # dataset\n",
    "    df_filt = df_filt[df_filt[\"traj_split\"] == \"test\"]\n",
    "    if dataset_name == \"default\":\n",
    "        df_filt = df_filt[df_filt[\"eval_group\"] == \"lp7\"]\n",
    "    elif dataset_name == \"unseen\":\n",
    "        df_filt = df_filt[df_filt[\"eval_group\"] == \"lp9\"]\n",
    "    return df_filt\n",
    "\n",
    "\n",
    "def convert_run_name(run_name):\n",
    "    # convert run_name 20221121_ekf_g_lp7aug_c50_mslossFalse_sialways_imstateFalse_rotaugnone_s1 \n",
    "    # to model_ekf_g_lp7aug_sialways_s1   \n",
    "    pattern = \"20221121_ekf_g_(.+)_c50_mslossFalse_si(.+)_imstateFalse_rotaugnone_s(\\d+)\"\n",
    "    prog = re.compile(pattern)\n",
    "    match = prog.match(run_name)\n",
    "    if match is not None:\n",
    "        new_run_name = f\"model_ekf_g_{match.group(1)}_si{match.group(2)}_s{match.group(3)}\"\n",
    "        return new_run_name\n",
    "    else:\n",
    "        return run_name\n",
    "    \n",
    "def load_df(eval_file_list, drop_traj):\n",
    "    df_list = []\n",
    "    for eval_file in tqdm(eval_file_list):\n",
    "        single_df = load_single_df(eval_file, drop_traj)\n",
    "        df_list.append(single_df)\n",
    "    df = pd.concat(df_list)\n",
    "    \n",
    "    df[\"run_name\"] = df[\"run_name\"].apply(convert_run_name)\n",
    "    \n",
    "    df[\"run_stem\"] = df[\"run_name\"].apply(lambda x: \"_\".join(x.split(\"_\")[:-1]))\n",
    "    df[\"traj_group\"] = df[\"traj_fullname\"].apply(lambda x: x.split(\"%\")[0])\n",
    "    df[\"eval_group\"] = df[\"traj_group\"]\n",
    "    return df\n",
    "\n",
    "\n",
    "def load_single_df(filepath, drop_traj):\n",
    "    df = pd.read_pickle(filepath)\n",
    "\n",
    "    if \"state_mean\" in df.columns and drop_traj:\n",
    "        df.drop(\n",
    "            [\n",
    "                \"state_mean\",\n",
    "                \"state_cov\",\n",
    "                \"filter_type\",\n",
    "                \"maxabserr\",\n",
    "                \"euclerr\",\n",
    "            ],\n",
    "            axis=1,\n",
    "            inplace=True,\n",
    "        )\n",
    "    return df\n",
    "\n",
    "\n",
    "def list_eval_files_by_pattern(dir_pattern, file_pattern):\n",
    "    dir_re = re.compile(dir_pattern)\n",
    "\n",
    "    eval_file_list = []\n",
    "    for subdir in tqdm(list(EXPERIMENT_DIR.iterdir())):\n",
    "        if not subdir.is_dir():\n",
    "            continue\n",
    "\n",
    "        if subdir.name.startswith(\"_\"):\n",
    "            continue\n",
    "\n",
    "        seed = int(subdir.name.split(\"_\")[-1][1:])\n",
    "        if seed not in list(range(1, 11)):\n",
    "            continue\n",
    "\n",
    "        if not dir_re.match(subdir.name):\n",
    "            continue\n",
    "\n",
    "        file_pattern_parsed = file_pattern.format(step=10000)\n",
    "        file_re = re.compile(file_pattern_parsed)\n",
    "\n",
    "        if not subdir.joinpath(\"filter_evaluations\").is_dir():\n",
    "            print(f\"{subdir} has no evals\")\n",
    "            continue\n",
    "\n",
    "        for filter_file in subdir.joinpath(\"filter_evaluations\").iterdir():\n",
    "            if not file_re.match(filter_file.name):\n",
    "                continue\n",
    "            eval_file_list.append(filter_file)\n",
    "    return eval_file_list"
   ]
  },
  {
   "cell_type": "code",
   "execution_count": 3,
   "id": "9f13b1c9",
   "metadata": {
    "scrolled": false
   },
   "outputs": [
    {
     "data": {
      "application/json": {
       "ascii": false,
       "bar_format": null,
       "colour": null,
       "elapsed": 0.002838134765625,
       "initial": 0,
       "n": 0,
       "ncols": null,
       "nrows": 66,
       "postfix": null,
       "prefix": "",
       "rate": null,
       "total": 41,
       "unit": "it",
       "unit_divisor": 1000,
       "unit_scale": false
      },
      "application/vnd.jupyter.widget-view+json": {
       "model_id": "ad947cf37cd34fa8ab48398855f33c07",
       "version_major": 2,
       "version_minor": 0
      },
      "text/plain": [
       "  0%|          | 0/41 [00:00<?, ?it/s]"
      ]
     },
     "metadata": {},
     "output_type": "display_data"
    },
    {
     "data": {
      "application/json": {
       "ascii": false,
       "bar_format": null,
       "colour": null,
       "elapsed": 0.002029895782470703,
       "initial": 0,
       "n": 0,
       "ncols": null,
       "nrows": 66,
       "postfix": null,
       "prefix": "",
       "rate": null,
       "total": 160,
       "unit": "it",
       "unit_divisor": 1000,
       "unit_scale": false
      },
      "application/vnd.jupyter.widget-view+json": {
       "model_id": "41f8b036f8c04613925bed3ea2f583b5",
       "version_major": 2,
       "version_minor": 0
      },
      "text/plain": [
       "  0%|          | 0/160 [00:00<?, ?it/s]"
      ]
     },
     "metadata": {},
     "output_type": "display_data"
    }
   ],
   "source": [
    "dir_pattern = \".+_lp7(aug)?_.+\"  # trained on lp7(aug), evaluated on lp7/lp9 with predhz 1 sec\n",
    "file_pattern = \"filter_evaluation_step{step}_lp[79]_1\\.0_si.+\\.pkl\"\n",
    "eval_files_onesec = list_eval_files_by_pattern(dir_pattern, file_pattern)\n",
    "df_onesec = load_df(eval_files_onesec, drop_traj=True)"
   ]
  },
  {
   "cell_type": "code",
   "execution_count": 4,
   "id": "55a596ca",
   "metadata": {},
   "outputs": [
    {
     "data": {
      "application/json": {
       "ascii": false,
       "bar_format": null,
       "colour": null,
       "elapsed": 0.002424001693725586,
       "initial": 0,
       "n": 0,
       "ncols": null,
       "nrows": 66,
       "postfix": null,
       "prefix": "",
       "rate": null,
       "total": 41,
       "unit": "it",
       "unit_divisor": 1000,
       "unit_scale": false
      },
      "application/vnd.jupyter.widget-view+json": {
       "model_id": "dcb944b7422f49fd8f76fc2f3f7491fb",
       "version_major": 2,
       "version_minor": 0
      },
      "text/plain": [
       "  0%|          | 0/41 [00:00<?, ?it/s]"
      ]
     },
     "metadata": {},
     "output_type": "display_data"
    },
    {
     "data": {
      "application/json": {
       "ascii": false,
       "bar_format": null,
       "colour": null,
       "elapsed": 0.0019986629486083984,
       "initial": 0,
       "n": 0,
       "ncols": null,
       "nrows": 66,
       "postfix": null,
       "prefix": "",
       "rate": null,
       "total": 40,
       "unit": "it",
       "unit_divisor": 1000,
       "unit_scale": false
      },
      "application/vnd.jupyter.widget-view+json": {
       "model_id": "35f379ea28e249f59e72c2eecf430f5a",
       "version_major": 2,
       "version_minor": 0
      },
      "text/plain": [
       "  0%|          | 0/40 [00:00<?, ?it/s]"
      ]
     },
     "metadata": {},
     "output_type": "display_data"
    }
   ],
   "source": [
    "dir_pattern = \".+ekf.+lp7aug.+\"  # trained on lp7aug, evaluated on lp9 with predhz 1 sec, with sideinfo, keep full trajs.\n",
    "file_pattern = \"filter_evaluation_step{step}_lp[79]_1.0_siTrue.pkl\"\n",
    "eval_files_full = list_eval_files_by_pattern(dir_pattern, file_pattern)\n",
    "df_full = load_df(eval_files_full, drop_traj=False)"
   ]
  },
  {
   "cell_type": "code",
   "execution_count": 5,
   "id": "49d52477",
   "metadata": {},
   "outputs": [
    {
     "data": {
      "text/plain": [
       "array(['model_ekf_g_lp7aug_sialways_s1',\n",
       "       'model_ekf_g_lp7aug_sialways_s10',\n",
       "       'model_ekf_g_lp7aug_sialways_s2', 'model_ekf_g_lp7aug_sialways_s3',\n",
       "       'model_ekf_g_lp7aug_sialways_s4', 'model_ekf_g_lp7aug_sialways_s5',\n",
       "       'model_ekf_g_lp7aug_sialways_s6', 'model_ekf_g_lp7aug_sialways_s7',\n",
       "       'model_ekf_g_lp7aug_sialways_s8', 'model_ekf_g_lp7aug_sialways_s9',\n",
       "       'model_ekf_g_lp7aug_sinever_s1', 'model_ekf_g_lp7aug_sinever_s10',\n",
       "       'model_ekf_g_lp7aug_sinever_s2', 'model_ekf_g_lp7aug_sinever_s3',\n",
       "       'model_ekf_g_lp7aug_sinever_s4', 'model_ekf_g_lp7aug_sinever_s5',\n",
       "       'model_ekf_g_lp7aug_sinever_s6', 'model_ekf_g_lp7aug_sinever_s7',\n",
       "       'model_ekf_g_lp7aug_sinever_s8', 'model_ekf_g_lp7aug_sinever_s9'],\n",
       "      dtype=object)"
      ]
     },
     "execution_count": 5,
     "metadata": {},
     "output_type": "execute_result"
    }
   ],
   "source": [
    "df_full[\"run_name\"].unique()"
   ]
  },
  {
   "cell_type": "code",
   "execution_count": 6,
   "id": "a5a7442d",
   "metadata": {},
   "outputs": [
    {
     "data": {
      "text/plain": [
       "array(['model_ekf_g_lp7aug_sialways_s1',\n",
       "       'model_ekf_g_lp7aug_sialways_s10',\n",
       "       'model_ekf_g_lp7aug_sialways_s2', 'model_ekf_g_lp7aug_sialways_s3',\n",
       "       'model_ekf_g_lp7aug_sialways_s4', 'model_ekf_g_lp7aug_sialways_s5',\n",
       "       'model_ekf_g_lp7aug_sialways_s6', 'model_ekf_g_lp7aug_sialways_s7',\n",
       "       'model_ekf_g_lp7aug_sialways_s8', 'model_ekf_g_lp7aug_sialways_s9',\n",
       "       'model_ekf_g_lp7aug_sinever_s1', 'model_ekf_g_lp7aug_sinever_s10',\n",
       "       'model_ekf_g_lp7aug_sinever_s2', 'model_ekf_g_lp7aug_sinever_s3',\n",
       "       'model_ekf_g_lp7aug_sinever_s4', 'model_ekf_g_lp7aug_sinever_s5',\n",
       "       'model_ekf_g_lp7aug_sinever_s6', 'model_ekf_g_lp7aug_sinever_s7',\n",
       "       'model_ekf_g_lp7aug_sinever_s8', 'model_ekf_g_lp7aug_sinever_s9',\n",
       "       'model_ekf_g_lp7_sialways_s1', 'model_ekf_g_lp7_sialways_s10',\n",
       "       'model_ekf_g_lp7_sialways_s2', 'model_ekf_g_lp7_sialways_s3',\n",
       "       'model_ekf_g_lp7_sialways_s4', 'model_ekf_g_lp7_sialways_s5',\n",
       "       'model_ekf_g_lp7_sialways_s6', 'model_ekf_g_lp7_sialways_s7',\n",
       "       'model_ekf_g_lp7_sialways_s8', 'model_ekf_g_lp7_sialways_s9',\n",
       "       'model_ekf_g_lp7_sinever_s1', 'model_ekf_g_lp7_sinever_s10',\n",
       "       'model_ekf_g_lp7_sinever_s2', 'model_ekf_g_lp7_sinever_s3',\n",
       "       'model_ekf_g_lp7_sinever_s4', 'model_ekf_g_lp7_sinever_s5',\n",
       "       'model_ekf_g_lp7_sinever_s6', 'model_ekf_g_lp7_sinever_s7',\n",
       "       'model_ekf_g_lp7_sinever_s8', 'model_ekf_g_lp7_sinever_s9'],\n",
       "      dtype=object)"
      ]
     },
     "execution_count": 6,
     "metadata": {},
     "output_type": "execute_result"
    }
   ],
   "source": [
    "df_onesec[\"run_name\"].unique()"
   ]
  },
  {
   "cell_type": "code",
   "execution_count": 7,
   "id": "a3f8634f",
   "metadata": {},
   "outputs": [],
   "source": [
    "# Compute mean over all trajectories\n",
    "df_onesec_mean = (\n",
    "    df_onesec.groupby(\n",
    "        [\n",
    "            \"run_stem\",\n",
    "            \"run_name\",\n",
    "            \"traj_split\",\n",
    "            \"min_pred_length_sec\",\n",
    "            \"use_side_info\",\n",
    "            \"eval_group\",\n",
    "        ]\n",
    "    )[[\"run_stem\", \"maxeuclerr_last5\"]]\n",
    "    .mean()\n",
    "    .reset_index()\n",
    ")"
   ]
  },
  {
   "cell_type": "code",
   "execution_count": 8,
   "id": "79df7091",
   "metadata": {
    "scrolled": false
   },
   "outputs": [],
   "source": [
    "METHODS = {\n",
    "    # method_id, train_aug\n",
    "    \"EKF\": (\"ekf\", True),\n",
    "    \"EKF (w/o aug.)\": (\"ekf\", False),\n",
    "}\n",
    "\n",
    "\n",
    "def build_ablation_df():\n",
    "    ablation_df_list = []\n",
    "    df_in = df_onesec[df_onesec[\"min_pred_length_sec\"] == 1.0]\n",
    "\n",
    "    for eval_dataset_name, eval_dataset_abbr in zip(\n",
    "        [\"default\", \"unseen\"], [\"def.\", \"uns.\"]\n",
    "    ):\n",
    "        for use_side_info in [True, False]:\n",
    "            for method_name, (method_id, train_aug) in METHODS.items():\n",
    "\n",
    "                if method_name == \"TVAE\" and use_side_info:\n",
    "                    continue\n",
    "\n",
    "                df_eval = filter_dataframe(\n",
    "                    df_in, method_id, train_aug, use_side_info, eval_dataset_name\n",
    "                )\n",
    "                df_eval = df_eval.copy()\n",
    "\n",
    "                df_eval[\"ablation\"] = method_name\n",
    "                df_eval[\"use_side_info\"] = use_side_info\n",
    "                df_eval[\"eval_group_name\"] = eval_dataset_abbr\n",
    "\n",
    "                ablation_df_list.append(df_eval)\n",
    "\n",
    "    ablation_df = pd.concat(ablation_df_list)\n",
    "    return ablation_df[\n",
    "        [\"eval_group_name\", \"ablation\", \"use_side_info\", \"maxeuclerr_last5\"]\n",
    "    ]\n",
    "\n",
    "\n",
    "ablation_df = build_ablation_df()"
   ]
  },
  {
   "cell_type": "code",
   "execution_count": 9,
   "id": "2c27ef8b",
   "metadata": {},
   "outputs": [
    {
     "data": {
      "text/html": [
       "<div>\n",
       "<style scoped>\n",
       "    .dataframe tbody tr th:only-of-type {\n",
       "        vertical-align: middle;\n",
       "    }\n",
       "\n",
       "    .dataframe tbody tr th {\n",
       "        vertical-align: top;\n",
       "    }\n",
       "\n",
       "    .dataframe thead th {\n",
       "        text-align: right;\n",
       "    }\n",
       "</style>\n",
       "<table border=\"1\" class=\"dataframe\">\n",
       "  <thead>\n",
       "    <tr style=\"text-align: right;\">\n",
       "      <th></th>\n",
       "      <th>eval_group_name</th>\n",
       "      <th>ablation</th>\n",
       "      <th>use_side_info</th>\n",
       "      <th>maxeuclerr_last5</th>\n",
       "    </tr>\n",
       "  </thead>\n",
       "  <tbody>\n",
       "    <tr>\n",
       "      <th>0</th>\n",
       "      <td>def.</td>\n",
       "      <td>EKF</td>\n",
       "      <td>True</td>\n",
       "      <td>0.048676</td>\n",
       "    </tr>\n",
       "    <tr>\n",
       "      <th>2</th>\n",
       "      <td>def.</td>\n",
       "      <td>EKF</td>\n",
       "      <td>True</td>\n",
       "      <td>0.047846</td>\n",
       "    </tr>\n",
       "    <tr>\n",
       "      <th>3</th>\n",
       "      <td>def.</td>\n",
       "      <td>EKF</td>\n",
       "      <td>True</td>\n",
       "      <td>0.053301</td>\n",
       "    </tr>\n",
       "    <tr>\n",
       "      <th>4</th>\n",
       "      <td>def.</td>\n",
       "      <td>EKF</td>\n",
       "      <td>True</td>\n",
       "      <td>0.048622</td>\n",
       "    </tr>\n",
       "    <tr>\n",
       "      <th>5</th>\n",
       "      <td>def.</td>\n",
       "      <td>EKF</td>\n",
       "      <td>True</td>\n",
       "      <td>0.063945</td>\n",
       "    </tr>\n",
       "    <tr>\n",
       "      <th>...</th>\n",
       "      <td>...</td>\n",
       "      <td>...</td>\n",
       "      <td>...</td>\n",
       "      <td>...</td>\n",
       "    </tr>\n",
       "    <tr>\n",
       "      <th>145</th>\n",
       "      <td>uns.</td>\n",
       "      <td>EKF (w/o aug.)</td>\n",
       "      <td>False</td>\n",
       "      <td>0.444124</td>\n",
       "    </tr>\n",
       "    <tr>\n",
       "      <th>146</th>\n",
       "      <td>uns.</td>\n",
       "      <td>EKF (w/o aug.)</td>\n",
       "      <td>False</td>\n",
       "      <td>0.487310</td>\n",
       "    </tr>\n",
       "    <tr>\n",
       "      <th>147</th>\n",
       "      <td>uns.</td>\n",
       "      <td>EKF (w/o aug.)</td>\n",
       "      <td>False</td>\n",
       "      <td>0.787823</td>\n",
       "    </tr>\n",
       "    <tr>\n",
       "      <th>148</th>\n",
       "      <td>uns.</td>\n",
       "      <td>EKF (w/o aug.)</td>\n",
       "      <td>False</td>\n",
       "      <td>0.699970</td>\n",
       "    </tr>\n",
       "    <tr>\n",
       "      <th>149</th>\n",
       "      <td>uns.</td>\n",
       "      <td>EKF (w/o aug.)</td>\n",
       "      <td>False</td>\n",
       "      <td>0.785812</td>\n",
       "    </tr>\n",
       "  </tbody>\n",
       "</table>\n",
       "<p>12520 rows × 4 columns</p>\n",
       "</div>"
      ],
      "text/plain": [
       "    eval_group_name        ablation  use_side_info  maxeuclerr_last5\n",
       "0              def.             EKF           True          0.048676\n",
       "2              def.             EKF           True          0.047846\n",
       "3              def.             EKF           True          0.053301\n",
       "4              def.             EKF           True          0.048622\n",
       "5              def.             EKF           True          0.063945\n",
       "..              ...             ...            ...               ...\n",
       "145            uns.  EKF (w/o aug.)          False          0.444124\n",
       "146            uns.  EKF (w/o aug.)          False          0.487310\n",
       "147            uns.  EKF (w/o aug.)          False          0.787823\n",
       "148            uns.  EKF (w/o aug.)          False          0.699970\n",
       "149            uns.  EKF (w/o aug.)          False          0.785812\n",
       "\n",
       "[12520 rows x 4 columns]"
      ]
     },
     "execution_count": 9,
     "metadata": {},
     "output_type": "execute_result"
    }
   ],
   "source": [
    "ablation_df"
   ]
  },
  {
   "cell_type": "code",
   "execution_count": 10,
   "id": "c5a9774c",
   "metadata": {},
   "outputs": [],
   "source": [
    "def make_boxplot(\n",
    "    ablation_whitelist, fig_width, yoffset, yspacing, has_preamble, symlog\n",
    "):\n",
    "    fig, ax = plt.subplots(figsize=(fig_width, 1.75))\n",
    "    boxplot_by = [\"ablation\", \"eval_group_name\", \"use_side_info\"]\n",
    "    filtered_df = ablation_df[ablation_df[\"ablation\"].isin(ablation_whitelist)]\n",
    "    label_df = filtered_df[boxplot_by].drop_duplicates().sort_values(by=boxplot_by)\n",
    "\n",
    "    flierprops = dict(marker=\"x\", markersize=2, linestyle=\"none\")\n",
    "    filtered_df.boxplot(by=boxplot_by, rot=90, ax=ax, flierprops=flierprops)\n",
    "\n",
    "    levels = {k: [] for k in range(len(boxplot_by))}\n",
    "    # levels: dictionary for each level, indicating start and end of labels (inclusive), ie.\n",
    "    #\n",
    "    # 0: [(\"EKF\", 0, 3), (\"EKF (nodata)\", 4, 7)], ...\n",
    "    # 1: [(\"train_pos\", 0, 1), (\"unseen_pos\", 1, 2), ...]\n",
    "    #\n",
    "    for row_idx, row in enumerate(label_df.iterrows()):\n",
    "        for level in levels.keys():\n",
    "            text = str(row[1][level])\n",
    "            if (\n",
    "                level == max(levels.keys())\n",
    "                or len(levels[level]) == 0\n",
    "                or levels[level][-1][0] != text\n",
    "            ):\n",
    "                levels[level].append([text, row_idx, row_idx])\n",
    "            elif levels[level][-1][0] == text:\n",
    "                # update last seen\n",
    "                levels[level][-1][2] = row_idx\n",
    "    print(levels)\n",
    "\n",
    "    level_labels = [\"Method\", \"Launcher pos.\", \"W/ launch info\"]\n",
    "    for level in levels.keys():\n",
    "        y = -(2 - level) * yspacing - yoffset\n",
    "        for text, start_x, end_x in levels[level]:\n",
    "            if level == 2:\n",
    "                text = {\"True\": \"yes\", \"False\": \"no\"}[text]\n",
    "            if level == 0:\n",
    "                text = r\"\\textbf{\" + text + \"}\"\n",
    "            ax.text(\n",
    "                (start_x + end_x + 2) / 2,\n",
    "                y,\n",
    "                text,\n",
    "                horizontalalignment=\"center\",\n",
    "                verticalalignment=\"center\",\n",
    "            )\n",
    "\n",
    "        if has_preamble:\n",
    "            ax.text(\n",
    "                0.3,\n",
    "                y,\n",
    "                level_labels[level],\n",
    "                horizontalalignment=\"right\",\n",
    "                verticalalignment=\"center\",\n",
    "            )\n",
    "\n",
    "    ax.set_xticklabels([])\n",
    "    ax.set_xlabel(\"\")\n",
    "    ax.set_ylabel(\"Pred. error\\n 1s pred. [m]\")\n",
    "    ax.set_title(\"\")\n",
    "    if symlog:\n",
    "        ax.set_yscale(\"symlog\", linthresh=1)\n",
    "        ax.set_yticks([0, 0.2, 0.4, 0.6, 0.8, 1, 2, 5])\n",
    "        ax.set_yticklabels([0, 0.2, 0.4, 0.6, 0.8, 1, 2, 5])\n",
    "        ax.set_ylim(-0.1, 10)\n",
    "    # ax.set_ylim(0, 2)\n",
    "    fig.suptitle(\"\")"
   ]
  },
  {
   "cell_type": "code",
   "execution_count": 11,
   "id": "cdefc2c8",
   "metadata": {},
   "outputs": [],
   "source": [
    "def get_width(fraction=1, ncols=1):\n",
    "    figwidth = 1.05 * 5.89\n",
    "    spacing_mm = 5\n",
    "    spacing_in = spacing_mm / 25.4\n",
    "    figwidth = fraction * (figwidth - (ncols - 1) * spacing_in)\n",
    "    return figwidth"
   ]
  },
  {
   "cell_type": "code",
   "execution_count": 12,
   "id": "21d71dd1",
   "metadata": {
    "scrolled": false
   },
   "outputs": [
    {
     "name": "stdout",
     "output_type": "stream",
     "text": [
      "{0: [['EKF', 0, 3], ['EKF (w/o aug.)', 4, 7]], 1: [['def.', 0, 1], ['uns.', 2, 3], ['def.', 4, 5], ['uns.', 6, 7]], 2: [['False', 0, 0], ['True', 1, 1], ['False', 2, 2], ['True', 3, 3], ['False', 4, 4], ['True', 5, 5], ['False', 6, 6], ['True', 7, 7]]}\n"
     ]
    },
    {
     "data": {
      "image/png": "[encoded data removed]",
      "text/plain": [
       "<Figure size 838.271x350 with 1 Axes>"
      ]
     },
     "metadata": {},
     "output_type": "display_data"
    }
   ],
   "source": [
    "make_boxplot(\n",
    "    [\"EKF\", \"EKF (w/o aug.)\"], get_width(0.7, 2), 0.35, 0.23, True, True\n",
    ")\n",
    "plt.savefig(\"graphics/results_ekf_vrnn.png\", bbox_inches=\"tight\", pad_inches=0)"
   ]
  },
  {
   "cell_type": "code",
   "execution_count": 13,
   "id": "fc9b7863",
   "metadata": {
    "scrolled": false
   },
   "outputs": [
    {
     "name": "stdout",
     "output_type": "stream",
     "text": [
      "{0: [['EKF', 0, 3]], 1: [['def.', 0, 1], ['uns.', 2, 3]], 2: [['False', 0, 0], ['True', 1, 1], ['False', 2, 2], ['True', 3, 3]]}\n"
     ]
    },
    {
     "data": {
      "image/png": "[encoded data removed]",
      "text/plain": [
       "<Figure size 239.506x350 with 1 Axes>"
      ]
     },
     "metadata": {},
     "output_type": "display_data"
    }
   ],
   "source": [
    "make_boxplot([\"EKF\"], get_width(0.2, 2), 0.075, 0.057, False, False)\n",
    "plt.savefig(\"graphics/results_ekf_detail.png\", bbox_inches=\"tight\", pad_inches=0)"
   ]
  },
  {
   "cell_type": "markdown",
   "id": "09d6dded",
   "metadata": {},
   "source": [
    "## Plot best and worst trajectories from 'unseen' dataset"
   ]
  },
  {
   "cell_type": "code",
   "execution_count": 14,
   "id": "c484df54",
   "metadata": {},
   "outputs": [],
   "source": [
    "def plot_traj(traj_fullname, run_name, fig, ax_arr, title_prefix):\n",
    "    eval_group = traj_fullname.split(\"%\")[0]\n",
    "    df_filt = pd.read_pickle(\n",
    "        EXPERIMENT_DIR.joinpath(\n",
    "            run_name,\n",
    "            \"filter_evaluations\",\n",
    "            f\"filter_evaluation_step10000_{eval_group}_1.0_siTrue.pkl\",\n",
    "        )\n",
    "    )\n",
    "    df_filt[\"run_name\"] = df_filt[\"run_name\"].apply(convert_run_name)\n",
    "\n",
    "    gt_traj = get_data(traj_fullname)\n",
    "    filt_pred_item = df_filt[\n",
    "        (df_filt[\"traj_fullname\"] == traj_fullname) & (df_filt[\"run_name\"] == run_name)\n",
    "    ].iloc[0]\n",
    "    err = filt_pred_item[\"maxeuclerr_last5\"]\n",
    "    filt_pred_mean = filt_pred_item[\"state_mean\"]\n",
    "    n_filt = filt_pred_item[\"filter_length\"]\n",
    "    print(filt_pred_item.keys())\n",
    "\n",
    "    from ball_model.data import IDEAL_TABLE\n",
    "\n",
    "    half_length_of_table = 1.37\n",
    "    half_width_of_table = 0.7625\n",
    "\n",
    "    ax_arr[0].scatter(\n",
    "        gt_traj.timestamps[::10],\n",
    "        gt_traj.positions[:, 2][::10],\n",
    "        s=0.6,\n",
    "        alpha=1,\n",
    "        zorder=-10,\n",
    "    )\n",
    "    ax_arr[0].plot([], [])\n",
    "    ax_arr[0].plot(\n",
    "        gt_traj.timestamps[:n_filt], filt_pred_mean[:n_filt, 2], linewidth=0.7\n",
    "    )\n",
    "    ax_arr[0].plot(\n",
    "        gt_traj.timestamps[n_filt:], filt_pred_mean[n_filt:, 2], linewidth=0.7\n",
    "    )\n",
    "    ax_arr[0].axhline(y=IDEAL_TABLE[2], linestyle=\"--\", color=\"gray\", alpha=0.6)\n",
    "    ax_arr[0].set_xlim([-0.1, 1.3])\n",
    "    ax_arr[0].set_ylim([-0.5, 0.7])\n",
    "    ax_arr[0].set_xlabel(\"time [s]\")\n",
    "    ax_arr[0].set_ylabel(\"z [m]\")\n",
    "\n",
    "    ax_arr[1].scatter(\n",
    "        gt_traj.positions[:, 0][::10],\n",
    "        gt_traj.positions[:, 1][::10],\n",
    "        s=0.6,\n",
    "        alpha=1,\n",
    "        zorder=-10,\n",
    "    )\n",
    "    ax_arr[1].plot([], [])\n",
    "    ax_arr[1].plot(\n",
    "        filt_pred_mean[:n_filt, 0], filt_pred_mean[:n_filt, 1], linewidth=0.7\n",
    "    )\n",
    "    ax_arr[1].plot(\n",
    "        filt_pred_mean[n_filt:, 0], filt_pred_mean[n_filt:, 1], linewidth=0.7\n",
    "    )\n",
    "    table_x_range = [\n",
    "        IDEAL_TABLE[0] - half_width_of_table,\n",
    "        IDEAL_TABLE[0] + half_width_of_table,\n",
    "    ]\n",
    "    table_y_range = [\n",
    "        IDEAL_TABLE[1] - half_length_of_table,\n",
    "        IDEAL_TABLE[1] + half_length_of_table,\n",
    "    ]\n",
    "    ax_arr[1].fill_between(\n",
    "        np.array(\n",
    "            [IDEAL_TABLE[0] - half_width_of_table, IDEAL_TABLE[0] + half_width_of_table]\n",
    "        ),\n",
    "        np.array(\n",
    "            [\n",
    "                IDEAL_TABLE[1] - half_length_of_table,\n",
    "                IDEAL_TABLE[1] - half_length_of_table,\n",
    "            ]\n",
    "        ),\n",
    "        np.array(\n",
    "            [\n",
    "                IDEAL_TABLE[1] + half_length_of_table,\n",
    "                IDEAL_TABLE[1] + half_length_of_table,\n",
    "            ]\n",
    "        ),\n",
    "        color=\"gray\",\n",
    "        alpha=0.2,\n",
    "    )\n",
    "    ax_arr[1].set_xlim(np.array(table_x_range) + np.array([-0.5, 0.5]))\n",
    "    ax_arr[1].set_ylim(np.array(table_y_range) + np.array([-0.5, 0.5]))\n",
    "    ax_arr[1].invert_yaxis()\n",
    "    ax_arr[1].set_xlabel(\"x [m]\")\n",
    "    ax_arr[1].set_ylabel(\"y [m]\")\n",
    "    ax_arr[1].set_xticks([-0.8, 1.1])\n",
    "    ax_arr[1].invert_xaxis()\n",
    "\n",
    "    fig.suptitle(f\"{title_prefix}, error = {err:.3f}m\")"
   ]
  },
  {
   "cell_type": "code",
   "execution_count": 15,
   "id": "364fadf3",
   "metadata": {
    "scrolled": true
   },
   "outputs": [],
   "source": [
    "pd.set_option('max_colwidth', 120)"
   ]
  },
  {
   "cell_type": "code",
   "execution_count": 16,
   "id": "7c479948",
   "metadata": {},
   "outputs": [],
   "source": [
    "# Plot worst, q10, median (test) trajectories\n",
    "df_full_onesec = df_full[df_full[\"min_pred_length_sec\"] == 1.0]\n",
    "df_eval = filter_dataframe(\n",
    "    df_full_onesec,\n",
    "    method_id=\"ekf\",\n",
    "    train_aug=True,\n",
    "    use_side_info=True,\n",
    "    dataset_name=\"unseen\",\n",
    ")\n",
    "sorted_df = df_eval.sort_values(by=\"maxeuclerr_last5\")"
   ]
  },
  {
   "cell_type": "code",
   "execution_count": 17,
   "id": "c40ba43f",
   "metadata": {},
   "outputs": [
    {
     "name": "stdout",
     "output_type": "stream",
     "text": [
      "lp9%9534 model_ekf_g_lp7aug_sialways_s10\n",
      "lp9%9551 model_ekf_g_lp7aug_sialways_s3\n",
      "lp9%9240 model_ekf_g_lp7aug_sialways_s1\n",
      "lp9%9338 model_ekf_g_lp7aug_sialways_s1\n"
     ]
    }
   ],
   "source": [
    "# worst\n",
    "worst_id, worst_run_name = sorted_df.iloc[-1][[\"traj_fullname\", \"run_name\"]]\n",
    "# q90\n",
    "q90_id, q90_run_name = sorted_df.iloc[int(0.9 * len(sorted_df))][\n",
    "    [\"traj_fullname\", \"run_name\"]\n",
    "]\n",
    "# median\n",
    "median_id, median_run_name = sorted_df.iloc[int(0.5 * len(sorted_df))][\n",
    "    [\"traj_fullname\", \"run_name\"]\n",
    "]\n",
    "# best\n",
    "best_id, best_run_name = sorted_df.iloc[0][[\"traj_fullname\", \"run_name\"]]\n",
    "\n",
    "print(worst_id, worst_run_name)\n",
    "print(q90_id, q90_run_name)\n",
    "print(median_id, median_run_name)\n",
    "print(best_id, best_run_name)"
   ]
  },
  {
   "cell_type": "code",
   "execution_count": 18,
   "id": "cff9c17f",
   "metadata": {
    "scrolled": false
   },
   "outputs": [
    {
     "name": "stdout",
     "output_type": "stream",
     "text": [
      "Index(['state_mean', 'state_cov', 'filter_type', 'maxabserr', 'euclerr',\n",
      "       'run_name', 'checkpoint_step', 'traj_fullname', 'traj_split',\n",
      "       'traj_length', 'filter_length', 'min_pred_length_sec', 'use_side_info',\n",
      "       'maxabserr_last5', 'maxeuclerr_last5'],\n",
      "      dtype='object')\n",
      "Index(['state_mean', 'state_cov', 'filter_type', 'maxabserr', 'euclerr',\n",
      "       'run_name', 'checkpoint_step', 'traj_fullname', 'traj_split',\n",
      "       'traj_length', 'filter_length', 'min_pred_length_sec', 'use_side_info',\n",
      "       'maxabserr_last5', 'maxeuclerr_last5'],\n",
      "      dtype='object')\n",
      "Index(['state_mean', 'state_cov', 'filter_type', 'maxabserr', 'euclerr',\n",
      "       'run_name', 'checkpoint_step', 'traj_fullname', 'traj_split',\n",
      "       'traj_length', 'filter_length', 'min_pred_length_sec', 'use_side_info',\n",
      "       'maxabserr_last5', 'maxeuclerr_last5'],\n",
      "      dtype='object')\n"
     ]
    },
    {
     "data": {
      "image/png": "[encoded data removed]",
      "text/plain": [
       "<Figure size 405.356x250 with 2 Axes>"
      ]
     },
     "metadata": {},
     "output_type": "display_data"
    },
    {
     "data": {
      "image/png": "[encoded data removed]",
      "text/plain": [
       "<Figure size 405.356x250 with 2 Axes>"
      ]
     },
     "metadata": {},
     "output_type": "display_data"
    },
    {
     "data": {
      "image/png": "[encoded data removed]",
      "text/plain": [
       "<Figure size 405.356x250 with 2 Axes>"
      ]
     },
     "metadata": {},
     "output_type": "display_data"
    }
   ],
   "source": [
    "fig, ax_arr = plt.subplots(\n",
    "    nrows=1,\n",
    "    ncols=2,\n",
    "    constrained_layout=True,\n",
    "    gridspec_kw={\"width_ratios\": [2, 1]},\n",
    "    figsize=(get_width(0.35, 3), 1.25),\n",
    ")\n",
    "plot_traj(worst_id, worst_run_name, fig, ax_arr, \"max error\")\n",
    "plt.savefig(\"graphics/lp9_ekf_variants_err_max.png\", bbox_inches=\"tight\", pad_inches=0)\n",
    "\n",
    "fig, ax_arr = plt.subplots(\n",
    "    nrows=1,\n",
    "    ncols=2,\n",
    "    constrained_layout=True,\n",
    "    gridspec_kw={\"width_ratios\": [2, 1]},\n",
    "    figsize=(get_width(0.35, 3), 1.25),\n",
    ")\n",
    "plot_traj(median_id, median_run_name, fig, ax_arr, \"median error\")\n",
    "plt.savefig(\n",
    "    \"graphics/lp9_ekf_variants_err_median.png\", bbox_inches=\"tight\", pad_inches=0\n",
    ")\n",
    "\n",
    "\n",
    "fig, ax_arr = plt.subplots(\n",
    "    nrows=1,\n",
    "    ncols=2,\n",
    "    constrained_layout=True,\n",
    "    gridspec_kw={\"width_ratios\": [2, 1]},\n",
    "    figsize=(get_width(0.35, 3), 1.25),\n",
    ")\n",
    "plot_traj(best_id, best_run_name, fig, ax_arr, \"min error\")\n",
    "plt.savefig(\"graphics/lp9_ekf_variants_err_min.png\", bbox_inches=\"tight\", pad_inches=0)"
   ]
  },
  {
   "cell_type": "markdown",
   "id": "7ca2f718",
   "metadata": {},
   "source": [
    "## Compare different min_pred_lengths (EKF/RSSM/TVAE) on unseen dataset"
   ]
  },
  {
   "cell_type": "code",
   "execution_count": 19,
   "id": "57522f74",
   "metadata": {},
   "outputs": [
    {
     "data": {
      "application/json": {
       "ascii": false,
       "bar_format": null,
       "colour": null,
       "elapsed": 0.002315521240234375,
       "initial": 0,
       "n": 0,
       "ncols": null,
       "nrows": 66,
       "postfix": null,
       "prefix": "",
       "rate": null,
       "total": 41,
       "unit": "it",
       "unit_divisor": 1000,
       "unit_scale": false
      },
      "application/vnd.jupyter.widget-view+json": {
       "model_id": "e9a1b8ff53cf47e7b6fced21bf1c7238",
       "version_major": 2,
       "version_minor": 0
      },
      "text/plain": [
       "  0%|          | 0/41 [00:00<?, ?it/s]"
      ]
     },
     "metadata": {},
     "output_type": "display_data"
    },
    {
     "data": {
      "application/json": {
       "ascii": false,
       "bar_format": null,
       "colour": null,
       "elapsed": 0.00218963623046875,
       "initial": 0,
       "n": 0,
       "ncols": null,
       "nrows": 66,
       "postfix": null,
       "prefix": "",
       "rate": null,
       "total": 400,
       "unit": "it",
       "unit_divisor": 1000,
       "unit_scale": false
      },
      "application/vnd.jupyter.widget-view+json": {
       "model_id": "4960e5e82f944f4e958b1c0e52ee5b3d",
       "version_major": 2,
       "version_minor": 0
      },
      "text/plain": [
       "  0%|          | 0/400 [00:00<?, ?it/s]"
      ]
     },
     "metadata": {},
     "output_type": "display_data"
    }
   ],
   "source": [
    "dir_pattern = \".+lp7aug.+\"  # trained on lp7aug\n",
    "file_pattern = \"filter_evaluation_step{step}_lp9_\\d\\.\\d_si.+\\.pkl\"\n",
    "eval_files_predhz = list_eval_files_by_pattern(dir_pattern, file_pattern)\n",
    "df_predhz = load_df(eval_files_predhz, drop_traj=True)"
   ]
  },
  {
   "cell_type": "code",
   "execution_count": 20,
   "id": "34bc6b5d",
   "metadata": {},
   "outputs": [],
   "source": [
    "METHODS_EKF = {\n",
    "    # method_id, train_aug, use_side_info\n",
    "    \"EKF w/ li.\": (\"ekf\", True, True),\n",
    "    \"EKF w/o li.\": (\"ekf\", True, False),\n",
    "}"
   ]
  },
  {
   "cell_type": "code",
   "execution_count": 21,
   "id": "0e6c1a9a",
   "metadata": {},
   "outputs": [],
   "source": [
    "def plot_predhz(ax, df_predhz, method_name, method_id, train_aug, use_side_info):\n",
    "    df_eval = filter_dataframe(\n",
    "        df_predhz,\n",
    "        method_id=method_id,\n",
    "        train_aug=train_aug,\n",
    "        use_side_info=use_side_info,\n",
    "        dataset_name=\"unseen\",\n",
    "    )\n",
    "    print(method_name, method_id, train_aug, use_side_info, len(df_eval))\n",
    "\n",
    "    df_group = df_eval.groupby([\"min_pred_length_sec\"])[\"maxeuclerr_last5\"]\n",
    "    agg_np = {}\n",
    "    for agg in [\"median\", \"q10\", \"q90\"]:\n",
    "        agg_fcn = {\n",
    "            \"median\": \"median\",\n",
    "            \"q10\": lambda x: x.quantile(0.1),\n",
    "            \"q90\": lambda x: x.quantile(0.9),\n",
    "        }\n",
    "        agg_np[agg] = (\n",
    "            df_group.agg(agg_fcn[agg])\n",
    "            .reset_index()[[\"min_pred_length_sec\", \"maxeuclerr_last5\"]]\n",
    "            .to_numpy()\n",
    "        )\n",
    "    ax.plot(agg_np[\"median\"][:, 0], agg_np[\"median\"][:, 1], label=method_name)\n",
    "    ax.fill_between(\n",
    "        agg_np[\"median\"][:, 0], agg_np[\"q10\"][:, 1], agg_np[\"q90\"][:, 1], alpha=0.2\n",
    "    )"
   ]
  },
  {
   "cell_type": "code",
   "execution_count": 22,
   "id": "1638bb18",
   "metadata": {},
   "outputs": [
    {
     "name": "stdout",
     "output_type": "stream",
     "text": [
      "EKF w/ li. ekf True True 15000\n",
      "EKF w/o li. ekf True False 15000\n"
     ]
    },
    {
     "data": {
      "image/png": "[encoded data removed]",
      "text/plain": [
       "<Figure size 598.765x350 with 1 Axes>"
      ]
     },
     "metadata": {},
     "output_type": "display_data"
    }
   ],
   "source": [
    "fig, ax = plt.subplots(figsize=(get_width(0.5, 2), 1.75), ncols=1)\n",
    "for method_name, (method_id, train_aug, use_side_info) in METHODS_EKF.items():\n",
    "    plot_predhz(ax, df_predhz, method_name, method_id, train_aug, use_side_info)\n",
    "ax.set_ylabel(\"Pred. error [m]\")\n",
    "ax.set_xlabel(\"Pred. horizon [s]\")\n",
    "ax.set_xticks([x / 10 for x in range(1, 11)])\n",
    "ax.set_ylim(-0.01, 0.4)\n",
    "ax.legend(\n",
    "    ncol=2,\n",
    "    handlelength=0.5,\n",
    "    fancybox=False,\n",
    "    framealpha=0,\n",
    "    columnspacing=0.5,\n",
    "    bbox_to_anchor=(1.005, 1),\n",
    "    fontsize=7,\n",
    ")\n",
    "plt.savefig(\n",
    "    \"graphics/pred_performance_horizon_ekf.png\", bbox_inches=\"tight\", pad_inches=0\n",
    ")"
   ]
  }
 ],
 "metadata": {
  "kernelspec": {
   "display_name": "Python 3 (ipykernel)",
   "language": "python",
   "name": "python3"
  },
  "language_info": {
   "codemirror_mode": {
    "name": "ipython",
    "version": 3
   },
   "file_extension": ".py",
   "mimetype": "text/x-python",
   "name": "python",
   "nbconvert_exporter": "python",
   "pygments_lexer": "ipython3",
   "version": "3.8.10"
  }
 },
 "nbformat": 4,
 "nbformat_minor": 5
}
